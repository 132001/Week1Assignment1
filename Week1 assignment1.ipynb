{
 "cells": [
  {
   "cell_type": "code",
   "execution_count": 1,
   "id": "0734f3ef-4bc9-4fc2-bc57-b0a06498a595",
   "metadata": {},
   "outputs": [],
   "source": [
    "#Question 1\n",
    "#Ans"
   ]
  },
  {
   "cell_type": "code",
   "execution_count": 2,
   "id": "cf7c72e8-d981-4710-ad13-2e4f70b64c2c",
   "metadata": {},
   "outputs": [],
   "source": [
    "str = \"PW Skills\""
   ]
  },
  {
   "cell_type": "code",
   "execution_count": 3,
   "id": "d8fa0c43-61be-4c91-9b61-1cc755264e04",
   "metadata": {},
   "outputs": [
    {
     "name": "stdout",
     "output_type": "stream",
     "text": [
      "PW Skills\n"
     ]
    }
   ],
   "source": [
    "print(str)"
   ]
  },
  {
   "cell_type": "code",
   "execution_count": 4,
   "id": "78c6949d-7044-48a0-bb0e-b79aa5ba3a6b",
   "metadata": {},
   "outputs": [],
   "source": [
    "lst = [1,'PW',True,2.0]"
   ]
  },
  {
   "cell_type": "code",
   "execution_count": 5,
   "id": "ac979075-8ada-4b9c-9d62-b0b22251ca84",
   "metadata": {},
   "outputs": [
    {
     "name": "stdout",
     "output_type": "stream",
     "text": [
      "[1, 'PW', True, 2.0]\n"
     ]
    }
   ],
   "source": [
    "print(lst)"
   ]
  },
  {
   "cell_type": "code",
   "execution_count": 6,
   "id": "c4daf5e2-0a9f-45a7-b4d3-33455d027e14",
   "metadata": {},
   "outputs": [],
   "source": [
    "x = 2.0"
   ]
  },
  {
   "cell_type": "code",
   "execution_count": 7,
   "id": "3cb87be6-417d-4d16-96d3-ad37b7168c10",
   "metadata": {},
   "outputs": [
    {
     "name": "stdout",
     "output_type": "stream",
     "text": [
      "2.0\n"
     ]
    }
   ],
   "source": [
    "print(x)"
   ]
  },
  {
   "cell_type": "code",
   "execution_count": 8,
   "id": "87cdeb9b-7a79-43d2-90e1-3da8a26febdb",
   "metadata": {},
   "outputs": [],
   "source": [
    "tupl = (1,2,3)"
   ]
  },
  {
   "cell_type": "code",
   "execution_count": 9,
   "id": "baa51e49-2da4-4ffd-81ca-629966e2f9e0",
   "metadata": {},
   "outputs": [
    {
     "name": "stdout",
     "output_type": "stream",
     "text": [
      "(1, 2, 3)\n"
     ]
    }
   ],
   "source": [
    "print(tupl)"
   ]
  },
  {
   "cell_type": "code",
   "execution_count": 10,
   "id": "f0583c62-5319-4f51-872a-081a1233d556",
   "metadata": {},
   "outputs": [],
   "source": [
    "#Question2\n",
    "#Ans"
   ]
  },
  {
   "cell_type": "code",
   "execution_count": 11,
   "id": "b0a3be73-fd84-4997-8651-b917241f1ac7",
   "metadata": {},
   "outputs": [],
   "source": [
    "var1 = ''"
   ]
  },
  {
   "cell_type": "code",
   "execution_count": 12,
   "id": "d6def130-e8eb-4810-91a0-973f0a8770f0",
   "metadata": {},
   "outputs": [
    {
     "data": {
      "text/plain": [
       "str"
      ]
     },
     "execution_count": 12,
     "metadata": {},
     "output_type": "execute_result"
    }
   ],
   "source": [
    "type(var1)"
   ]
  },
  {
   "cell_type": "code",
   "execution_count": 13,
   "id": "b198f73d-97db-4c0f-8484-00a7ea530458",
   "metadata": {},
   "outputs": [],
   "source": [
    "var2 = '[DS,ML,Python]'"
   ]
  },
  {
   "cell_type": "code",
   "execution_count": 14,
   "id": "106b697a-c325-4b17-8b2e-5e0de1ba8ff7",
   "metadata": {},
   "outputs": [
    {
     "data": {
      "text/plain": [
       "str"
      ]
     },
     "execution_count": 14,
     "metadata": {},
     "output_type": "execute_result"
    }
   ],
   "source": [
    "type(var2)"
   ]
  },
  {
   "cell_type": "code",
   "execution_count": 15,
   "id": "8367e595-7a20-4643-b9d3-02ee718b7191",
   "metadata": {},
   "outputs": [],
   "source": [
    "var3 = ['DS','ML',\"Python\"]"
   ]
  },
  {
   "cell_type": "code",
   "execution_count": 16,
   "id": "c9985b5b-35e5-42fd-b8f9-e2c89eaae9d5",
   "metadata": {},
   "outputs": [
    {
     "data": {
      "text/plain": [
       "list"
      ]
     },
     "execution_count": 16,
     "metadata": {},
     "output_type": "execute_result"
    }
   ],
   "source": [
    "type(var3)"
   ]
  },
  {
   "cell_type": "code",
   "execution_count": 17,
   "id": "4e7a7870-57a1-4a34-99ea-85a2f9c34663",
   "metadata": {},
   "outputs": [],
   "source": [
    "var4 = 1"
   ]
  },
  {
   "cell_type": "code",
   "execution_count": 18,
   "id": "3da7a623-6cb6-4977-9c7c-4bf3d9cc5a26",
   "metadata": {},
   "outputs": [
    {
     "data": {
      "text/plain": [
       "int"
      ]
     },
     "execution_count": 18,
     "metadata": {},
     "output_type": "execute_result"
    }
   ],
   "source": [
    "type(var4)"
   ]
  },
  {
   "cell_type": "code",
   "execution_count": 19,
   "id": "2025e664-40fc-4223-a265-42c72edb6ce4",
   "metadata": {},
   "outputs": [],
   "source": [
    "#Question 3\n",
    "#Ans"
   ]
  },
  {
   "cell_type": "code",
   "execution_count": 20,
   "id": "e8cdc837-1302-40a6-befa-db80e2f295bc",
   "metadata": {},
   "outputs": [],
   "source": [
    "a = 3/2"
   ]
  },
  {
   "cell_type": "code",
   "execution_count": 21,
   "id": "9d3b1e64-bc24-442e-9ecd-a74fe5ad23db",
   "metadata": {},
   "outputs": [
    {
     "name": "stdout",
     "output_type": "stream",
     "text": [
      "1.5\n"
     ]
    }
   ],
   "source": [
    "print(a)"
   ]
  },
  {
   "cell_type": "code",
   "execution_count": 22,
   "id": "405925ff-b595-46d4-9acf-e8d5569eb716",
   "metadata": {},
   "outputs": [],
   "source": [
    "b = 3%2"
   ]
  },
  {
   "cell_type": "code",
   "execution_count": 23,
   "id": "4fdecca5-5ca2-4a90-ba52-380c4f1dbce3",
   "metadata": {},
   "outputs": [
    {
     "name": "stdout",
     "output_type": "stream",
     "text": [
      "1\n"
     ]
    }
   ],
   "source": [
    "print(b)"
   ]
  },
  {
   "cell_type": "code",
   "execution_count": 24,
   "id": "0e836e0f-ecc9-4b4b-a250-44759476342a",
   "metadata": {},
   "outputs": [],
   "source": [
    "c = 3//2"
   ]
  },
  {
   "cell_type": "code",
   "execution_count": 25,
   "id": "52f6f6aa-8e49-48dc-9089-d4bb78a88463",
   "metadata": {},
   "outputs": [
    {
     "name": "stdout",
     "output_type": "stream",
     "text": [
      "1\n"
     ]
    }
   ],
   "source": [
    "print(c)"
   ]
  },
  {
   "cell_type": "code",
   "execution_count": 26,
   "id": "6290a53d-ada1-4312-ae31-ba524cec1721",
   "metadata": {},
   "outputs": [],
   "source": [
    "d = 3**2"
   ]
  },
  {
   "cell_type": "code",
   "execution_count": 27,
   "id": "addba719-a0e0-48a3-8626-fd62892810a2",
   "metadata": {},
   "outputs": [
    {
     "name": "stdout",
     "output_type": "stream",
     "text": [
      "9\n"
     ]
    }
   ],
   "source": [
    "print(d)"
   ]
  },
  {
   "cell_type": "code",
   "execution_count": 28,
   "id": "dbc61022-61d4-40f1-a24a-aac5c228e1d8",
   "metadata": {},
   "outputs": [],
   "source": [
    "#Question 4\n",
    "#Ans"
   ]
  },
  {
   "cell_type": "code",
   "execution_count": 29,
   "id": "bf4410ba-de2a-4633-b36e-20f32f64509f",
   "metadata": {},
   "outputs": [],
   "source": [
    "lst1 = [1,2.0,'PW Skills',True,None,3+4j,4,False,5.0,'Data Science']"
   ]
  },
  {
   "cell_type": "code",
   "execution_count": 30,
   "id": "72d0088a-fb05-40b8-a221-1618546a03ba",
   "metadata": {},
   "outputs": [
    {
     "name": "stdout",
     "output_type": "stream",
     "text": [
      "1\n",
      "<class 'int'>\n",
      "2.0\n",
      "<class 'float'>\n",
      "PW Skills\n",
      "<class 'str'>\n",
      "True\n",
      "<class 'bool'>\n",
      "None\n",
      "<class 'NoneType'>\n",
      "(3+4j)\n",
      "<class 'complex'>\n",
      "4\n",
      "<class 'int'>\n",
      "False\n",
      "<class 'bool'>\n",
      "5.0\n",
      "<class 'float'>\n",
      "Data Science\n",
      "<class 'str'>\n"
     ]
    }
   ],
   "source": [
    "for element in lst1:\n",
    "    print(element)\n",
    "    print(type(element))"
   ]
  },
  {
   "cell_type": "code",
   "execution_count": 31,
   "id": "0bd17e22-a3a3-4fa4-b3a7-a86e07bfbe8a",
   "metadata": {},
   "outputs": [],
   "source": [
    "# Question 5\n",
    "#Ans"
   ]
  },
  {
   "cell_type": "code",
   "execution_count": 32,
   "id": "99466eb6-6230-4d83-aa3b-d004ff4aef7e",
   "metadata": {},
   "outputs": [
    {
     "name": "stdout",
     "output_type": "stream",
     "text": [
      "Please enter your numbers in Integer format.\n"
     ]
    },
    {
     "name": "stdin",
     "output_type": "stream",
     "text": [
      "Enter your number A:  50\n",
      "Enter your number B:  5\n"
     ]
    },
    {
     "name": "stdout",
     "output_type": "stream",
     "text": [
      "2  times divisible\n"
     ]
    }
   ],
   "source": [
    "print(\"Please enter your numbers in Integer format.\")\n",
    "x = int(input(\"Enter your number A: \"))\n",
    "y = int(input(\"Enter your number B: \"))\n",
    "counter =0\n",
    "while x >= y:\n",
    "    if x % y == 0:\n",
    "        x = x//y\n",
    "        counter +=1\n",
    "    else:\n",
    "        break\n",
    "print(counter,\" times divisible\")"
   ]
  },
  {
   "cell_type": "code",
   "execution_count": 33,
   "id": "d298ee55-7331-4cab-ab1f-5f2351462581",
   "metadata": {},
   "outputs": [],
   "source": [
    "# Question 6\n",
    "#Ans"
   ]
  },
  {
   "cell_type": "code",
   "execution_count": 34,
   "id": "3e8e8756-3c96-43fc-af6a-fcae3209286e",
   "metadata": {},
   "outputs": [
    {
     "name": "stdout",
     "output_type": "stream",
     "text": [
      "2  is not divisible by 3\n",
      "4  is not divisible by 3\n",
      "6  is divisible by 3\n",
      "5  is not divisible by 3\n",
      "8  is not divisible by 3\n",
      "9  is divisible by 3\n",
      "12  is divisible by 3\n",
      "55  is not divisible by 3\n",
      "88  is not divisible by 3\n",
      "15  is divisible by 3\n",
      "48  is divisible by 3\n",
      "36  is divisible by 3\n",
      "79  is not divisible by 3\n",
      "25  is not divisible by 3\n",
      "32  is not divisible by 3\n",
      "69  is divisible by 3\n",
      "75  is divisible by 3\n",
      "27  is divisible by 3\n",
      "64  is not divisible by 3\n",
      "65  is not divisible by 3\n",
      "95  is not divisible by 3\n",
      "81  is divisible by 3\n",
      "94  is not divisible by 3\n",
      "654  is divisible by 3\n",
      "200  is not divisible by 3\n"
     ]
    }
   ],
   "source": [
    "lst2 = [2,4,6,5,8,9,12,55,88,15,48,36,79,25,32,69,75,27,64,65,95,81,94,654,200]\n",
    "for element in lst2:\n",
    "    if element % 3 == 0:\n",
    "        print(element,\" is divisible by 3\")\n",
    "    else:\n",
    "        print(element,\" is not divisible by 3\")"
   ]
  },
  {
   "cell_type": "code",
   "execution_count": 35,
   "id": "ae9bb148-1fa8-4840-8a25-d8f84cbf4533",
   "metadata": {},
   "outputs": [],
   "source": [
    "#Question 7\n",
    "#Ans"
   ]
  },
  {
   "cell_type": "code",
   "execution_count": 36,
   "id": "7a0c7459-e7d0-4e47-af20-57c198a52dc4",
   "metadata": {},
   "outputs": [],
   "source": [
    "#Immutable:\n",
    "#Strings are immutable because they can't be changed if we assigned a value in them at a particular index.\n",
    "#List are mutable becasue it can be changeable at a particular index.\n",
    "#Below Example:"
   ]
  },
  {
   "cell_type": "code",
   "execution_count": 37,
   "id": "3e88e0f9-a273-44c5-904c-a7b8672b48e5",
   "metadata": {},
   "outputs": [],
   "source": [
    "str = \"Data Science\""
   ]
  },
  {
   "cell_type": "code",
   "execution_count": 38,
   "id": "4d942f8a-b08e-4670-a367-490a928e28c8",
   "metadata": {},
   "outputs": [
    {
     "ename": "TypeError",
     "evalue": "'str' object does not support item assignment",
     "output_type": "error",
     "traceback": [
      "\u001b[0;31m---------------------------------------------------------------------------\u001b[0m",
      "\u001b[0;31mTypeError\u001b[0m                                 Traceback (most recent call last)",
      "Cell \u001b[0;32mIn[38], line 1\u001b[0m\n\u001b[0;32m----> 1\u001b[0m \u001b[38;5;28;43mstr\u001b[39;49m\u001b[43m[\u001b[49m\u001b[38;5;241;43m1\u001b[39;49m\u001b[43m]\u001b[49m \u001b[38;5;241m=\u001b[39m \u001b[38;5;124m'\u001b[39m\u001b[38;5;124me\u001b[39m\u001b[38;5;124m'\u001b[39m\n",
      "\u001b[0;31mTypeError\u001b[0m: 'str' object does not support item assignment"
     ]
    }
   ],
   "source": [
    "str[1] = 'e'"
   ]
  },
  {
   "cell_type": "code",
   "execution_count": 39,
   "id": "b4b94218-7524-402d-bf88-cfc57128bd8e",
   "metadata": {},
   "outputs": [],
   "source": [
    "lst3 = [1,2,3,4]"
   ]
  },
  {
   "cell_type": "code",
   "execution_count": 40,
   "id": "c071b5ea-d13d-41a3-982f-e6f913cfcc13",
   "metadata": {},
   "outputs": [],
   "source": [
    "lst3[1] = 5"
   ]
  },
  {
   "cell_type": "code",
   "execution_count": 41,
   "id": "3648b00a-d293-464e-bc9c-e9bbb97239f6",
   "metadata": {},
   "outputs": [
    {
     "data": {
      "text/plain": [
       "[1, 5, 3, 4]"
      ]
     },
     "execution_count": 41,
     "metadata": {},
     "output_type": "execute_result"
    }
   ],
   "source": [
    "lst3"
   ]
  },
  {
   "cell_type": "code",
   "execution_count": 42,
   "id": "bafaca0a-ce6b-435c-8393-b60e4edc9f23",
   "metadata": {},
   "outputs": [],
   "source": [
    "#END"
   ]
  }
 ],
 "metadata": {
  "kernelspec": {
   "display_name": "Python 3 (ipykernel)",
   "language": "python",
   "name": "python3"
  },
  "language_info": {
   "codemirror_mode": {
    "name": "ipython",
    "version": 3
   },
   "file_extension": ".py",
   "mimetype": "text/x-python",
   "name": "python",
   "nbconvert_exporter": "python",
   "pygments_lexer": "ipython3",
   "version": "3.10.8"
  }
 },
 "nbformat": 4,
 "nbformat_minor": 5
}
